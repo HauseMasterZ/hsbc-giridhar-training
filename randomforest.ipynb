{
 "cells": [
  {
   "cell_type": "code",
   "execution_count": null,
   "metadata": {},
   "outputs": [],
   "source": [
    "import pandas as pd\n",
    "import sklearn as sk\n",
    "import numpy as np\n",
    "import scipy as sp\n"
   ]
  },
  {
   "cell_type": "code",
   "execution_count": null,
   "metadata": {},
   "outputs": [],
   "source": [
    "#Importing dataset\n",
    "car_train=pd.read_csv(\".\\\\Datasets\\\\Car Accidents IOT\\\\train.csv\")\n",
    "car_test=pd.read_csv(\".\\\\Datasets\\\\Car Accidents IOT\\\\test.csv\")\n"
   ]
  },
  {
   "cell_type": "code",
   "execution_count": null,
   "metadata": {},
   "outputs": [],
   "source": [
    "\n",
    "from sklearn import tree\n"
   ]
  },
  {
   "cell_type": "code",
   "execution_count": null,
   "metadata": {},
   "outputs": [],
   "source": [
    "var=list(car_train.columns[1:22])\n",
    "c=car_train[var]\n",
    "d=car_train['Fatal']\n"
   ]
  },
  {
   "cell_type": "code",
   "execution_count": null,
   "metadata": {},
   "outputs": [],
   "source": [
    "###buildng Decision tree on the training data ####\n",
    "clf = tree.DecisionTreeClassifier()\n",
    "clf.fit(c,d)\n"
   ]
  },
  {
   "cell_type": "code",
   "execution_count": null,
   "metadata": {},
   "outputs": [],
   "source": [
    "\n",
    "#####predicting on test data ####\n",
    "tree_predict=clf.predict(car_test[var])"
   ]
  },
  {
   "cell_type": "code",
   "execution_count": null,
   "metadata": {},
   "outputs": [],
   "source": [
    "from sklearn.metrics import confusion_matrix###for using confusion matrix###\n",
    "cm1 = confusion_matrix(car_test[['Fatal']],tree_predict)\n",
    "print(cm1)"
   ]
  },
  {
   "cell_type": "code",
   "execution_count": null,
   "metadata": {},
   "outputs": [],
   "source": [
    "#####from confusion matrix calculate accuracy\n",
    "total1=sum(sum(cm1))\n",
    "accuracy_tree=(cm1[0,0]+cm1[1,1])/total1\n",
    "accuracy_tree\n"
   ]
  },
  {
   "cell_type": "code",
   "execution_count": null,
   "metadata": {},
   "outputs": [],
   "source": [
    "\n",
    "\n",
    "####Building Random Forest Model\n",
    "from sklearn.ensemble import RandomForestClassifier\n",
    "forest=RandomForestClassifier(n_estimators=10,  max_features = 5)\n"
   ]
  },
  {
   "cell_type": "code",
   "execution_count": null,
   "metadata": {},
   "outputs": [],
   "source": [
    "\n",
    "forest.fit(c,d)"
   ]
  },
  {
   "cell_type": "code",
   "execution_count": null,
   "metadata": {},
   "outputs": [],
   "source": [
    "forestpredict_test=forest.predict(car_test[var])\n",
    "e=car_test['Fatal']"
   ]
  },
  {
   "cell_type": "code",
   "execution_count": null,
   "metadata": {},
   "outputs": [],
   "source": [
    "e"
   ]
  },
  {
   "cell_type": "code",
   "execution_count": null,
   "metadata": {},
   "outputs": [],
   "source": [
    "###check the accuracy on test data\n",
    "from sklearn.metrics import confusion_matrix###for using confusion matrix###\n",
    "cm2 = confusion_matrix(car_test[['Fatal']],forestpredict_test)\n",
    "print(cm2)\n",
    "total2=sum(sum(cm2))\n",
    "#####from confusion matrix calculate accuracy\n",
    "accuracy_forest=(cm2[0,0]+cm2[1,1])/total2\n",
    "accuracy_forest\n"
   ]
  },
  {
   "cell_type": "code",
   "execution_count": null,
   "metadata": {},
   "outputs": [],
   "source": [
    "##################################################################\n",
    "#################LAB: Boosting\n"
   ]
  },
  {
   "cell_type": "code",
   "execution_count": null,
   "metadata": {},
   "outputs": [],
   "source": [
    "#importing the datasets\n",
    "menu_train=pd.read_csv(\".\\\\Datasets\\\\Ecom_Products_Menu\\\\train.csv\")\n",
    "menu_test=pd.read_csv(\".\\\\Datasets\\\\Ecom_Products_Menu\\\\test.csv\")\n"
   ]
  },
  {
   "cell_type": "code",
   "execution_count": null,
   "metadata": {},
   "outputs": [],
   "source": [
    "lab=list(menu_train.columns[1:101])\n",
    "g=menu_train[lab]\n",
    "h=menu_train['Category']"
   ]
  },
  {
   "cell_type": "code",
   "execution_count": null,
   "metadata": {},
   "outputs": [],
   "source": [
    "menu_train['Category'].value_counts()"
   ]
  },
  {
   "cell_type": "code",
   "execution_count": null,
   "metadata": {},
   "outputs": [],
   "source": [
    "\n",
    "###buildng Decision tree on the training data ####\n",
    "from sklearn import tree\n",
    "tree = tree.DecisionTreeClassifier()\n",
    "tree.fit(g,h)\n"
   ]
  },
  {
   "cell_type": "code",
   "execution_count": null,
   "metadata": {},
   "outputs": [],
   "source": [
    "#####predicting on test data ####\n",
    "tree_predict=tree.predict(menu_test[lab])\n"
   ]
  },
  {
   "cell_type": "code",
   "execution_count": null,
   "metadata": {},
   "outputs": [],
   "source": [
    "from sklearn.metrics import confusion_matrix###for using confusion matrix###\n",
    "cm1 = confusion_matrix(menu_test['Category'],tree_predict)\n",
    "print(cm1)\n"
   ]
  },
  {
   "cell_type": "code",
   "execution_count": null,
   "metadata": {},
   "outputs": [],
   "source": [
    "#####from confusion matrix calculate accuracy\n"
   ]
  },
  {
   "cell_type": "code",
   "execution_count": null,
   "metadata": {},
   "outputs": [],
   "source": [
    "\n",
    "#####predicting the tree  on test data ####\n",
    "tree_predict=tree.predict(menu_test[lab])\n",
    "from sklearn.metrics import f1_score\n",
    "f1_score(menu_test['Category'], tree_predict, average='micro')\n"
   ]
  },
  {
   "cell_type": "code",
   "execution_count": null,
   "metadata": {},
   "outputs": [],
   "source": [
    "##Gradient BOOSTING ##\n",
    "\n"
   ]
  },
  {
   "cell_type": "code",
   "execution_count": null,
   "metadata": {},
   "outputs": [],
   "source": [
    "###Building a gradient boosting clssifier ###\n",
    "from sklearn import ensemble\n",
    "from sklearn.ensemble import GradientBoostingClassifier\n",
    "boost=GradientBoostingClassifier(loss='log_loss', \n",
    "                                 learning_rate=0.1, \n",
    "                                 n_estimators=100, #Number of iterations\n",
    "                                 min_samples_leaf=5,  \n",
    "                                 max_depth=3,  \n",
    "                                 verbose=1) \n"
   ]
  },
  {
   "cell_type": "code",
   "execution_count": 57,
   "metadata": {},
   "outputs": [],
   "source": [
    "##calculating the time while fitting the Gradient boosting classifier\n",
    "import datetime\n",
    "start_time = datetime.datetime.now()\n",
    "##fitting the gradient boost classifier\n",
    "boost.fit(g,h)\n",
    "\n"
   ]
  },
  {
   "cell_type": "code",
   "execution_count": null,
   "metadata": {},
   "outputs": [],
   "source": [
    "end_time = datetime.datetime.now()\n",
    "print(end_time-start_time)\n"
   ]
  },
  {
   "cell_type": "code",
   "execution_count": null,
   "metadata": {},
   "outputs": [],
   "source": [
    "###predicting Gradient boosting model on the test Data\n",
    "boost_predict=boost.predict(menu_test[lab])\n",
    "from sklearn.metrics import confusion_matrix###for using confusion matrix###\n",
    "cm2 = confusion_matrix(menu_test['Category'],boost_predict)\n",
    "print(cm2)"
   ]
  },
  {
   "cell_type": "code",
   "execution_count": null,
   "metadata": {},
   "outputs": [],
   "source": [
    "\n",
    "\n",
    "from sklearn.metrics import f1_score\n",
    "f1_score(menu_test['Category'], boost_predict, average='micro') \n",
    "\n",
    "\n"
   ]
  },
  {
   "cell_type": "code",
   "execution_count": null,
   "metadata": {},
   "outputs": [],
   "source": []
  }
 ],
 "metadata": {
  "kernelspec": {
   "display_name": "base",
   "language": "python",
   "name": "python3"
  },
  "language_info": {
   "codemirror_mode": {
    "name": "ipython",
    "version": 3
   },
   "file_extension": ".py",
   "mimetype": "text/x-python",
   "name": "python",
   "nbconvert_exporter": "python",
   "pygments_lexer": "ipython3",
   "version": "3.11.5"
  }
 },
 "nbformat": 4,
 "nbformat_minor": 2
}
