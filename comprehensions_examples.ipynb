{
 "cells": [
  {
   "cell_type": "markdown",
   "id": "3c951747",
   "metadata": {},
   "source": [
    "# Examples of Comprehensions in Python"
   ]
  },
  {
   "cell_type": "markdown",
   "id": "c86e3309",
   "metadata": {},
   "source": [
    "## List Comprehensions"
   ]
  },
  {
   "cell_type": "code",
   "execution_count": null,
   "id": "c9abf00b",
   "metadata": {},
   "outputs": [],
   "source": [
    "[x**2 for x in range(10)]  # Squares of numbers 0-9"
   ]
  },
  {
   "cell_type": "code",
   "execution_count": null,
   "id": "da605407",
   "metadata": {},
   "outputs": [],
   "source": [
    "[x for x in range(10) if x % 2 == 0]  # Even numbers from 0-9"
   ]
  },
  {
   "cell_type": "code",
   "execution_count": null,
   "id": "7d00f8b9",
   "metadata": {},
   "outputs": [],
   "source": [
    "[x*y for x in range(1, 4) for y in range(1, 4)]  # Multiplication table 1-3"
   ]
  },
  {
   "cell_type": "code",
   "execution_count": null,
   "id": "57e6a663",
   "metadata": {},
   "outputs": [],
   "source": [
    "[char.upper() for char in 'hello']  # Uppercase each letter"
   ]
  },
  {
   "cell_type": "code",
   "execution_count": null,
   "id": "1db4ad24",
   "metadata": {},
   "outputs": [],
   "source": [
    "[len(word) for word in ['apple', 'banana', 'cherry']]  # Length of each word"
   ]
  },
  {
   "cell_type": "code",
   "execution_count": null,
   "id": "83312351",
   "metadata": {},
   "outputs": [],
   "source": [
    "[x if x % 2 == 0 else x*2 for x in range(10)]  # Double odd numbers"
   ]
  },
  {
   "cell_type": "code",
   "execution_count": null,
   "id": "05fa5708",
   "metadata": {},
   "outputs": [],
   "source": [
    "[x for x in 'abracadabra' if x not in 'abc']  # Remove 'a', 'b', 'c'"
   ]
  },
  {
   "cell_type": "code",
   "execution_count": null,
   "id": "e8e817f7",
   "metadata": {},
   "outputs": [],
   "source": [
    "[x + y for x in [10, 20, 30] for y in [1, 2, 3]]  # Add elements from two lists"
   ]
  },
  {
   "cell_type": "code",
   "execution_count": null,
   "id": "c51573b2",
   "metadata": {},
   "outputs": [],
   "source": [
    "[word[::-1] for word in ['apple', 'banana', 'cherry']]  # Reverse each word"
   ]
  },
  {
   "cell_type": "code",
   "execution_count": null,
   "id": "0c12a56a",
   "metadata": {},
   "outputs": [],
   "source": [
    "[x**0.5 for x in range(10)]  # Square roots of numbers 0-9"
   ]
  },
  {
   "cell_type": "markdown",
   "id": "9b8fa49e",
   "metadata": {},
   "source": [
    "## Dictionary Comprehensions"
   ]
  },
  {
   "cell_type": "code",
   "execution_count": null,
   "id": "e213d244",
   "metadata": {},
   "outputs": [],
   "source": [
    "{x: x**2 for x in range(10)}  # Squares of numbers 0-9"
   ]
  },
  {
   "cell_type": "code",
   "execution_count": null,
   "id": "0249aa7a",
   "metadata": {},
   "outputs": [],
   "source": [
    "{x: chr(65+x) for x in range(5)}  # Number to ASCII character mapping"
   ]
  },
  {
   "cell_type": "code",
   "execution_count": null,
   "id": "5b73fbfe",
   "metadata": {},
   "outputs": [],
   "source": [
    "{word: len(word) for word in ['apple', 'banana', 'cherry']}  # Word length dictionary"
   ]
  },
  {
   "cell_type": "code",
   "execution_count": null,
   "id": "bd7b8552",
   "metadata": {},
   "outputs": [],
   "source": [
    "{x: x*2 for x in range(1, 6)}  # Number doubled"
   ]
  },
  {
   "cell_type": "code",
   "execution_count": null,
   "id": "ca0b3d31",
   "metadata": {},
   "outputs": [],
   "source": [
    "{x: x%2 == 0 for x in range(10)}  # Boolean if number is even"
   ]
  },
  {
   "cell_type": "code",
   "execution_count": null,
   "id": "66e17ee7",
   "metadata": {},
   "outputs": [],
   "source": [
    "{word: word[::-1] for word in ['apple', 'banana', 'cherry']}  # Reverse each word"
   ]
  },
  {
   "cell_type": "code",
   "execution_count": null,
   "id": "83e2e253",
   "metadata": {},
   "outputs": [],
   "source": [
    "{x: 'even' if x % 2 == 0 else 'odd' for x in range(10)}  # Even or odd classification"
   ]
  },
  {
   "cell_type": "code",
   "execution_count": null,
   "id": "36698039",
   "metadata": {},
   "outputs": [],
   "source": [
    "{x: x**3 for x in range(5)}  # Cubes of numbers 0-4"
   ]
  },
  {
   "cell_type": "code",
   "execution_count": null,
   "id": "e4926566",
   "metadata": {},
   "outputs": [],
   "source": [
    "{char: ord(char) for char in 'hello'}  # Character to ASCII value"
   ]
  },
  {
   "cell_type": "code",
   "execution_count": null,
   "id": "fae5aaea",
   "metadata": {},
   "outputs": [],
   "source": [
    "{x: x*x for x in range(1, 11)}  # Squares of numbers 1-10"
   ]
  },
  {
   "cell_type": "markdown",
   "id": "1d6ba541",
   "metadata": {},
   "source": [
    "## Set Comprehensions"
   ]
  },
  {
   "cell_type": "code",
   "execution_count": null,
   "id": "17e57aea",
   "metadata": {},
   "outputs": [],
   "source": [
    "{x**2 for x in range(10)}  # Unique squares of numbers 0-9"
   ]
  },
  {
   "cell_type": "code",
   "execution_count": null,
   "id": "9f9585ad",
   "metadata": {},
   "outputs": [],
   "source": [
    "{x for x in range(10) if x % 2 == 0}  # Unique even numbers from 0-9"
   ]
  },
  {
   "cell_type": "code",
   "execution_count": null,
   "id": "b847014f",
   "metadata": {},
   "outputs": [],
   "source": [
    "{char.upper() for char in 'hello'}  # Unique uppercase letters"
   ]
  },
  {
   "cell_type": "code",
   "execution_count": null,
   "id": "8bd2637e",
   "metadata": {},
   "outputs": [],
   "source": [
    "{len(word) for word in ['apple', 'banana', 'cherry']}  # Unique lengths of words"
   ]
  },
  {
   "cell_type": "code",
   "execution_count": null,
   "id": "34b4c956",
   "metadata": {},
   "outputs": [],
   "source": [
    "{x**0.5 for x in range(10)}  # Unique square roots of numbers 0-9"
   ]
  },
  {
   "cell_type": "code",
   "execution_count": null,
   "id": "1409c6d0",
   "metadata": {},
   "outputs": [],
   "source": [
    "{x for x in range(20) if x % 3 == 0}  # Unique multiples of 3"
   ]
  },
  {
   "cell_type": "code",
   "execution_count": null,
   "id": "51c8a29e",
   "metadata": {},
   "outputs": [],
   "source": [
    "{word[0] for word in ['apple', 'banana', 'cherry']}  # Unique first letters"
   ]
  },
  {
   "cell_type": "code",
   "execution_count": null,
   "id": "0d847cd5",
   "metadata": {},
   "outputs": [],
   "source": [
    "{x for x in range(10) if x % 2 != 0}  # Unique odd numbers from 0-9"
   ]
  },
  {
   "cell_type": "code",
   "execution_count": null,
   "id": "86abff1f",
   "metadata": {},
   "outputs": [],
   "source": [
    "{char for char in 'abracadabra' if char not in 'abc'}  # Unique letters not 'a', 'b', 'c'"
   ]
  },
  {
   "cell_type": "code",
   "execution_count": null,
   "id": "2c04d2f0",
   "metadata": {},
   "outputs": [],
   "source": [
    "{x + y for x in range(3) for y in range(3)}  # Unique sums of elements from two ranges"
   ]
  }
 ],
 "metadata": {},
 "nbformat": 4,
 "nbformat_minor": 5
}
