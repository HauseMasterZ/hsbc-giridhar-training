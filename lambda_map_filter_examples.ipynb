{
 "cells": [
  {
   "cell_type": "markdown",
   "id": "0c217c42",
   "metadata": {},
   "source": [
    "# Introduction to Lambda Functions"
   ]
  },
  {
   "cell_type": "code",
   "execution_count": null,
   "id": "d665e58b",
   "metadata": {},
   "outputs": [],
   "source": [
    "# Example 1: Basic lambda function for addition\n",
    "add = lambda x, y: x + y\n",
    "add(5, 3)"
   ]
  },
  {
   "cell_type": "code",
   "execution_count": null,
   "id": "1f8324d3",
   "metadata": {},
   "outputs": [],
   "source": [
    "# Example 2: Lambda function with string operations\n",
    "concat_strings = lambda s1, s2: s1.strip().title() + ' ' + s2.strip().title()\n",
    "concat_strings('  hello', 'world   ')"
   ]
  },
  {
   "cell_type": "markdown",
   "id": "20930deb",
   "metadata": {},
   "source": [
    "## Map Function with Lambda"
   ]
  },
  {
   "cell_type": "code",
   "execution_count": null,
   "id": "e969332a",
   "metadata": {},
   "outputs": [],
   "source": [
    "# Example 1: Using map with a lambda function to square numbers\n",
    "numbers = [1, 2, 3, 4, 5]\n",
    "squared_numbers = list(map(lambda x: x ** 2, numbers))\n",
    "squared_numbers"
   ]
  },
  {
   "cell_type": "code",
   "execution_count": null,
   "id": "64553e64",
   "metadata": {},
   "outputs": [],
   "source": [
    "# Example 2: Using map with a lambda function to capitalize words in a list\n",
    "words = ['apple', 'banana', 'cherry']\n",
    "capitalized_words = list(map(lambda x: x.capitalize(), words))\n",
    "capitalized_words"
   ]
  },
  {
   "cell_type": "markdown",
   "id": "c6b3818d",
   "metadata": {},
   "source": [
    "## Filter Function with Lambda"
   ]
  },
  {
   "cell_type": "code",
   "execution_count": null,
   "id": "37a359b3",
   "metadata": {},
   "outputs": [],
   "source": [
    "# Example 1: Using filter with a lambda function to filter even numbers\n",
    "numbers = [1, 2, 3, 4, 5, 6, 7, 8, 9, 10]\n",
    "even_numbers = list(filter(lambda x: x % 2 == 0, numbers))\n",
    "even_numbers"
   ]
  },
  {
   "cell_type": "code",
   "execution_count": null,
   "id": "4bc44c83",
   "metadata": {},
   "outputs": [],
   "source": [
    "# Example 2: Using filter with a lambda function to find strings of a specific length\n",
    "strings = ['apple', 'banana', 'cherry', 'date', 'fig']\n",
    "five_letter_words = list(filter(lambda x: len(x) == 5, strings))\n",
    "five_letter_words"
   ]
  },
  {
   "cell_type": "markdown",
   "id": "908ab4e7",
   "metadata": {},
   "source": [
    "## Reduce Function with Lambda"
   ]
  },
  {
   "cell_type": "code",
   "execution_count": null,
   "id": "b94384bd",
   "metadata": {},
   "outputs": [],
   "source": [
    "# Example 1: Using reduce with a lambda function to calculate the product of a list\n",
    "from functools import reduce\n",
    "numbers = [1, 2, 3, 4, 5]\n",
    "product = reduce(lambda x, y: x * y, numbers)\n",
    "product"
   ]
  },
  {
   "cell_type": "code",
   "execution_count": null,
   "id": "6aad0979",
   "metadata": {},
   "outputs": [],
   "source": [
    "# Example 2: Using reduce with a lambda function to concatenate strings\n",
    "strings = ['hello', 'world', 'from', 'lambda']\n",
    "sentence = reduce(lambda x, y: x + ' ' + y, strings)\n",
    "sentence"
   ]
  },
  {
   "cell_type": "markdown",
   "id": "ff5ab513",
   "metadata": {},
   "source": [
    "## Using Lambda with Zip"
   ]
  },
  {
   "cell_type": "code",
   "execution_count": null,
   "id": "25e2a629",
   "metadata": {},
   "outputs": [],
   "source": [
    "# Example 1: Using zip and map with a lambda function to sum pairs of elements from two lists\n",
    "list1 = [1, 2, 3]\n",
    "list2 = [4, 5, 6]\n",
    "summed_pairs = list(map(lambda x: x[0] + x[1], zip(list1, list2)))\n",
    "summed_pairs"
   ]
  },
  {
   "cell_type": "code",
   "execution_count": null,
   "id": "7e45ddfb",
   "metadata": {},
   "outputs": [],
   "source": [
    "# Example 2: Using zip and filter with a lambda function to filter tuples\n",
    "list1 = [1, 2, 3, 4]\n",
    "list2 = [4, 3, 2, 1]\n",
    "filtered_pairs = list(filter(lambda x: x[0] > x[1], zip(list1, list2)))\n",
    "filtered_pairs"
   ]
  },
  {
   "cell_type": "markdown",
   "id": "c4a596ac",
   "metadata": {},
   "source": [
    "## List Comprehensions vs. Lambda Functions"
   ]
  },
  {
   "cell_type": "code",
   "execution_count": null,
   "id": "b96e59f6",
   "metadata": {},
   "outputs": [],
   "source": [
    "# Example 1: Using a list comprehension to achieve the same result as a lambda with map\n",
    "numbers = [1, 2, 3, 4, 5]\n",
    "squared_numbers = [x ** 2 for x in numbers]\n",
    "squared_numbers"
   ]
  },
  {
   "cell_type": "code",
   "execution_count": null,
   "id": "421ec705",
   "metadata": {},
   "outputs": [],
   "source": [
    "# Example 2: Using a list comprehension to filter elements like a lambda with filter\n",
    "numbers = [1, 2, 3, 4, 5, 6, 7, 8, 9, 10]\n",
    "even_numbers = [x for x in numbers if x % 2 == 0]\n",
    "even_numbers"
   ]
  }
 ],
 "metadata": {},
 "nbformat": 4,
 "nbformat_minor": 5
}
